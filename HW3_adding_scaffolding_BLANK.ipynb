{
 "cells": [
  {
   "cell_type": "markdown",
   "metadata": {},
   "source": [
    "# HW3: Adding Scaffolding to Graphs\n",
    "Course: DS2023"
   ]
  },
  {
   "cell_type": "markdown",
   "metadata": {},
   "source": [
    "**MACKENZIE BULLOCK**"
   ]
  },
  {
   "cell_type": "markdown",
   "metadata": {},
   "source": [
    "**Topic:** Data Visualization   \n",
    "**Purpose:** To practice reading documentation, adding scaffolding to graphs, and graphing in Matplotlib.   \n",
    "**Instructions:** Follow the tasks provided below to add scaffolding to the graphs we started in class & a new one.     \n",
    "Please comment you code to document your understanding. A code chunk follows each problem. You can use as many code chunks as you need to show your work.   \n",
    "**Submission:** Upload an html to Canvas.  \n",
    "\n",
    "*Total Points: 15*"
   ]
  },
  {
   "cell_type": "markdown",
   "metadata": {},
   "source": [
    "### Setup your environment"
   ]
  },
  {
   "cell_type": "code",
   "execution_count": 1,
   "metadata": {},
   "outputs": [],
   "source": [
    "import matplotlib.pyplot as plt"
   ]
  },
  {
   "cell_type": "markdown",
   "metadata": {},
   "source": [
    "### Problem 1\n",
    "*3 points*"
   ]
  },
  {
   "cell_type": "markdown",
   "metadata": {},
   "source": [
    "Using the Dow Jones Industrial Average data from class, read in 1 year's worth of data.     \n",
    "\n",
    "Create a multi-line graph with date on the x-axis and two lines showing Open and Close prices.  \n",
    "\n",
    "Add the following scaffolding to the graph:\n",
    "- Title: Start thinking about storytelling. Is there short descriptive title that can be used that goes above and beyond the x and y axis labels?   \n",
    "- X-axis label \n",
    "- Y-axis label - Be concise and descriptive (hint: what's the currency?)    \n",
    "- Color: Change the color of the lines to something other than the default. Use HEX color codes. Here is a website for inspiration: [Coolors](https://coolors.co/). \n",
    "- Legend: Add a legend to the graph."
   ]
  },
  {
   "cell_type": "markdown",
   "metadata": {},
   "source": [
    "Rubric\n",
    "- 1 point for creating the graph    \n",
    "- 2 points for creating the graph + correctly adding three of the scaffolding elements  \n",
    "- 3 points for creating the graph + correctly adding all five scaffolding elements  "
   ]
  },
  {
   "cell_type": "code",
   "execution_count": null,
   "metadata": {},
   "outputs": [],
   "source": []
  },
  {
   "cell_type": "markdown",
   "metadata": {},
   "source": [
    "### Problem 2\n",
    "*3 points*"
   ]
  },
  {
   "cell_type": "markdown",
   "metadata": {},
   "source": [
    "Using the Dow Jones Industrial Average data, recreate the monthly average dataset like we did in class. Keep all 12 months for this problem.    \n",
    "\n",
    "Add the following scaffolding to the graph: \n",
    "- x-axis label\n",
    "- y-axis label: remember to be specific about the measurement\n",
    "- Color: Change the color of the bar the correlates to the highest monthly average. Change the rest of the bars to gray. \n",
    "- Title: Add a title that is descriptive and goes beyond the x and y axis labels (think about storytelling and the coloring of the bar you did). \n"
   ]
  },
  {
   "cell_type": "markdown",
   "metadata": {},
   "source": [
    "Rubric\n",
    "- 1 point for creating the graph\n",
    "- 2 points for creating the graph + correctly adding two of the scaffolding elements\n",
    "- 3 points for creating the graph + correctly adding all four scaffolding elements"
   ]
  },
  {
   "cell_type": "code",
   "execution_count": null,
   "metadata": {},
   "outputs": [],
   "source": []
  },
  {
   "cell_type": "markdown",
   "metadata": {},
   "source": [
    "### Problem 3\n",
    "*4 points*"
   ]
  },
  {
   "cell_type": "markdown",
   "metadata": {},
   "source": [
    "Seaborn is a Python data visualization library based on Matplotlib. It provides a high-level interface for drawing attractive and informative statistical graphics. In this problem, you will create a scatter plot using Seaborn. Seaborn documentation can be found here: [Seaborn](https://seaborn.pydata.org/). "
   ]
  },
  {
   "cell_type": "code",
   "execution_count": null,
   "metadata": {},
   "outputs": [
    {
     "data": {
      "text/html": [
       "<div>\n",
       "<style scoped>\n",
       "    .dataframe tbody tr th:only-of-type {\n",
       "        vertical-align: middle;\n",
       "    }\n",
       "\n",
       "    .dataframe tbody tr th {\n",
       "        vertical-align: top;\n",
       "    }\n",
       "\n",
       "    .dataframe thead th {\n",
       "        text-align: right;\n",
       "    }\n",
       "</style>\n",
       "<table border=\"1\" class=\"dataframe\">\n",
       "  <thead>\n",
       "    <tr style=\"text-align: right;\">\n",
       "      <th></th>\n",
       "      <th>sepal_length</th>\n",
       "      <th>sepal_width</th>\n",
       "      <th>petal_length</th>\n",
       "      <th>petal_width</th>\n",
       "      <th>species</th>\n",
       "    </tr>\n",
       "  </thead>\n",
       "  <tbody>\n",
       "    <tr>\n",
       "      <th>0</th>\n",
       "      <td>5.1</td>\n",
       "      <td>3.5</td>\n",
       "      <td>1.4</td>\n",
       "      <td>0.2</td>\n",
       "      <td>setosa</td>\n",
       "    </tr>\n",
       "    <tr>\n",
       "      <th>1</th>\n",
       "      <td>4.9</td>\n",
       "      <td>3.0</td>\n",
       "      <td>1.4</td>\n",
       "      <td>0.2</td>\n",
       "      <td>setosa</td>\n",
       "    </tr>\n",
       "    <tr>\n",
       "      <th>2</th>\n",
       "      <td>4.7</td>\n",
       "      <td>3.2</td>\n",
       "      <td>1.3</td>\n",
       "      <td>0.2</td>\n",
       "      <td>setosa</td>\n",
       "    </tr>\n",
       "    <tr>\n",
       "      <th>3</th>\n",
       "      <td>4.6</td>\n",
       "      <td>3.1</td>\n",
       "      <td>1.5</td>\n",
       "      <td>0.2</td>\n",
       "      <td>setosa</td>\n",
       "    </tr>\n",
       "    <tr>\n",
       "      <th>4</th>\n",
       "      <td>5.0</td>\n",
       "      <td>3.6</td>\n",
       "      <td>1.4</td>\n",
       "      <td>0.2</td>\n",
       "      <td>setosa</td>\n",
       "    </tr>\n",
       "  </tbody>\n",
       "</table>\n",
       "</div>"
      ],
      "text/plain": [
       "   sepal_length  sepal_width  petal_length  petal_width species\n",
       "0           5.1          3.5           1.4          0.2  setosa\n",
       "1           4.9          3.0           1.4          0.2  setosa\n",
       "2           4.7          3.2           1.3          0.2  setosa\n",
       "3           4.6          3.1           1.5          0.2  setosa\n",
       "4           5.0          3.6           1.4          0.2  setosa"
      ]
     },
     "execution_count": 3,
     "metadata": {},
     "output_type": "execute_result"
    }
   ],
   "source": [
    "#import seaborn\n",
    "# if you have not installed seaborn, you can install it using pip [remove the pip install seaborn from the notebook]\n",
    "import seaborn as sns #sns is the common alias for seaborn\n",
    " \n",
    "# Seaborn come with a few datasets to get you started and one of them is the famous iris dataset. \n",
    "# You can load the iris dataset using the following code:\n",
    "iris = sns.load_dataset('iris')\n",
    "iris.head() # This will display the first 5 rows of the dataset"
   ]
  },
  {
   "cell_type": "markdown",
   "metadata": {},
   "source": [
    "> More on the [Iris Dataset](https://en.wikipedia.org/wiki/Iris_flower_data_set#:~:text=The%20data%20set%20consists%20of,sepals%20and%20petals%2C%20in%20centimeters.)"
   ]
  },
  {
   "cell_type": "markdown",
   "metadata": {},
   "source": [
    "Create a scatter plot in Seaborn using iris dataset. Make the points different colors based on the species."
   ]
  },
  {
   "cell_type": "code",
   "execution_count": null,
   "metadata": {},
   "outputs": [],
   "source": []
  },
  {
   "cell_type": "markdown",
   "metadata": {},
   "source": [
    "Update the following elements:\n",
    "- x-axis label to 'Sepal Length' (hint: what are the units?)\n",
    "- y-axis label to 'Sepal Width' (hint: what are the units?)\n",
    "- Add a title\n",
    "- Change the colors using a seaborn palette different from the default. Check out the palettes [here](https://r02b.github.io/seaborn_palettes/)\n",
    "- Move the legend outside of the plotting area.\n",
    "- Keep only the x and y axis lines (i.e. remove right and top lines)."
   ]
  },
  {
   "cell_type": "code",
   "execution_count": null,
   "metadata": {},
   "outputs": [],
   "source": []
  },
  {
   "cell_type": "markdown",
   "metadata": {},
   "source": [
    "Rubric\n",
    "- 1 point for creating the initial seaborn scatter plot\n",
    "- 2 points for the inital scatter plot + correctly changing the axes titles and adding a title.\n",
    "- 3 points for the initial scatter plot + correctly changing the axes titles, adding a title, and changing the colors.\n",
    "- 4 points for the initial scatter plot + correctly changing the axes titles, adding a title, changing the colors, and moving the legend outside of the plotting area."
   ]
  },
  {
   "cell_type": "markdown",
   "metadata": {},
   "source": [
    "### Problem 4   \n",
    "*5 points*  \n",
    "Provide a brief answer to teh following questions:\n",
    "\n",
    "1 - Why is Matplotlib considered a low-level library and Seaborn a high-level library? \n",
    "\n",
    "2 - Why do we still call `plt` from Matplotlib when using Seaborn?  "
   ]
  },
  {
   "cell_type": "markdown",
   "metadata": {},
   "source": [
    "Rubric\n",
    "- 1 point for providing an answer to both questions\n",
    "- 2.5 points for providing a correct answer to one question\n",
    "- 5 points for providing a correct answer to both questions"
   ]
  }
 ],
 "metadata": {
  "kernelspec": {
   "display_name": "Python 3",
   "language": "python",
   "name": "python3"
  },
  "language_info": {
   "codemirror_mode": {
    "name": "ipython",
    "version": 3
   },
   "file_extension": ".py",
   "mimetype": "text/x-python",
   "name": "python",
   "nbconvert_exporter": "python",
   "pygments_lexer": "ipython3",
   "version": "3.12.5"
  }
 },
 "nbformat": 4,
 "nbformat_minor": 2
}
